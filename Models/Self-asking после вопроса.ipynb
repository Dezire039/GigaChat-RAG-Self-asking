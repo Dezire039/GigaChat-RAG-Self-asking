{
  "cells": [
    {
      "cell_type": "markdown",
      "metadata": {
        "id": "eu1ZSzDM2fJv"
      },
      "source": [
        "#GigaChat с использованием Retrieval Augmented Generation(RAG) и self-asking (через промпты) (вторая версия, вопросы задаются после получения основного ответа)"
      ]
    },
    {
      "cell_type": "markdown",
      "metadata": {
        "id": "i6gP9e_b3pes"
      },
      "source": [
        "##Установка необходимых библиотек"
      ]
    },
    {
      "cell_type": "code",
      "execution_count": 1,
      "metadata": {
        "colab": {
          "base_uri": "https://localhost:8080/"
        },
        "id": "VTeaMwLQ-ERv",
        "outputId": "44a155f4-58e9-48fa-e3a3-89e769078ebb"
      },
      "outputs": [
        {
          "output_type": "stream",
          "name": "stdout",
          "text": [
            "\u001b[2K     \u001b[90m━━━━━━━━━━━━━━━━━━━━━━━━━━━━━━━━━━━━━━━━\u001b[0m \u001b[32m50.4/50.4 kB\u001b[0m \u001b[31m618.4 kB/s\u001b[0m eta \u001b[36m0:00:00\u001b[0m\n",
            "\u001b[2K   \u001b[90m━━━━━━━━━━━━━━━━━━━━━━━━━━━━━━━━━━━━━━━━\u001b[0m \u001b[32m1.0/1.0 MB\u001b[0m \u001b[31m6.9 MB/s\u001b[0m eta \u001b[36m0:00:00\u001b[0m\n",
            "\u001b[2K   \u001b[90m━━━━━━━━━━━━━━━━━━━━━━━━━━━━━━━━━━━━━━━━\u001b[0m \u001b[32m341.1/341.1 kB\u001b[0m \u001b[31m16.3 MB/s\u001b[0m eta \u001b[36m0:00:00\u001b[0m\n",
            "\u001b[2K   \u001b[90m━━━━━━━━━━━━━━━━━━━━━━━━━━━━━━━━━━━━━━━━\u001b[0m \u001b[32m58.0/58.0 kB\u001b[0m \u001b[31m2.9 MB/s\u001b[0m eta \u001b[36m0:00:00\u001b[0m\n",
            "\u001b[2K   \u001b[90m━━━━━━━━━━━━━━━━━━━━━━━━━━━━━━━━━━━━━━━━\u001b[0m \u001b[32m275.8/275.8 kB\u001b[0m \u001b[31m12.9 MB/s\u001b[0m eta \u001b[36m0:00:00\u001b[0m\n",
            "\u001b[2K   \u001b[90m━━━━━━━━━━━━━━━━━━━━━━━━━━━━━━━━━━━━━━━━\u001b[0m \u001b[32m75.6/75.6 kB\u001b[0m \u001b[31m5.4 MB/s\u001b[0m eta \u001b[36m0:00:00\u001b[0m\n",
            "\u001b[2K   \u001b[90m━━━━━━━━━━━━━━━━━━━━━━━━━━━━━━━━━━━━━━━━\u001b[0m \u001b[32m77.9/77.9 kB\u001b[0m \u001b[31m4.9 MB/s\u001b[0m eta \u001b[36m0:00:00\u001b[0m\n",
            "\u001b[2K   \u001b[90m━━━━━━━━━━━━━━━━━━━━━━━━━━━━━━━━━━━━━━━━\u001b[0m \u001b[32m141.1/141.1 kB\u001b[0m \u001b[31m7.8 MB/s\u001b[0m eta \u001b[36m0:00:00\u001b[0m\n",
            "\u001b[2K   \u001b[90m━━━━━━━━━━━━━━━━━━━━━━━━━━━━━━━━━━━━━━━━\u001b[0m \u001b[32m58.3/58.3 kB\u001b[0m \u001b[31m3.0 MB/s\u001b[0m eta \u001b[36m0:00:00\u001b[0m\n",
            "\u001b[2K   \u001b[90m━━━━━━━━━━━━━━━━━━━━━━━━━━━━━━━━━━━━━━━━\u001b[0m \u001b[32m2.2/2.2 MB\u001b[0m \u001b[31m10.2 MB/s\u001b[0m eta \u001b[36m0:00:00\u001b[0m\n",
            "\u001b[2K   \u001b[90m━━━━━━━━━━━━━━━━━━━━━━━━━━━━━━━━━━━━━━━━\u001b[0m \u001b[32m49.2/49.2 kB\u001b[0m \u001b[31m2.5 MB/s\u001b[0m eta \u001b[36m0:00:00\u001b[0m\n",
            "\u001b[?25h"
          ]
        }
      ],
      "source": [
        "!pip install gigachain -q\n",
        "!pip install -U gigachain-community -q"
      ]
    },
    {
      "cell_type": "code",
      "execution_count": 2,
      "metadata": {
        "colab": {
          "base_uri": "https://localhost:8080/"
        },
        "id": "9UakvVz28n-M",
        "outputId": "5aa14866-be9b-4c1d-a184-3606d65e98dc"
      },
      "outputs": [
        {
          "output_type": "stream",
          "name": "stdout",
          "text": [
            "\u001b[2K   \u001b[90m━━━━━━━━━━━━━━━━━━━━━━━━━━━━━━━━━━━━━━━━\u001b[0m \u001b[32m227.1/227.1 kB\u001b[0m \u001b[31m2.1 MB/s\u001b[0m eta \u001b[36m0:00:00\u001b[0m\n",
            "\u001b[2K   \u001b[90m━━━━━━━━━━━━━━━━━━━━━━━━━━━━━━━━━━━━━━━━\u001b[0m \u001b[32m21.3/21.3 MB\u001b[0m \u001b[31m16.0 MB/s\u001b[0m eta \u001b[36m0:00:00\u001b[0m\n",
            "\u001b[?25hCollecting faiss-cpu\n",
            "  Downloading faiss_cpu-1.8.0.post1-cp310-cp310-manylinux_2_17_x86_64.manylinux2014_x86_64.whl.metadata (3.7 kB)\n",
            "Requirement already satisfied: numpy<2.0,>=1.0 in /usr/local/lib/python3.10/dist-packages (from faiss-cpu) (1.26.4)\n",
            "Requirement already satisfied: packaging in /usr/local/lib/python3.10/dist-packages (from faiss-cpu) (24.1)\n",
            "Downloading faiss_cpu-1.8.0.post1-cp310-cp310-manylinux_2_17_x86_64.manylinux2014_x86_64.whl (27.0 MB)\n",
            "\u001b[2K   \u001b[90m━━━━━━━━━━━━━━━━━━━━━━━━━━━━━━━━━━━━━━━━\u001b[0m \u001b[32m27.0/27.0 MB\u001b[0m \u001b[31m13.1 MB/s\u001b[0m eta \u001b[36m0:00:00\u001b[0m\n",
            "\u001b[?25hInstalling collected packages: faiss-cpu\n",
            "Successfully installed faiss-cpu-1.8.0.post1\n",
            "\u001b[2K   \u001b[90m━━━━━━━━━━━━━━━━━━━━━━━━━━━━━━━━━━━━━━━━\u001b[0m \u001b[32m295.8/295.8 kB\u001b[0m \u001b[31m2.1 MB/s\u001b[0m eta \u001b[36m0:00:00\u001b[0m\n",
            "\u001b[?25h"
          ]
        }
      ],
      "source": [
        "!pip install sentence-transformers -q\n",
        "!pip install faiss-cpu\n",
        "!pip install pypdf -q"
      ]
    },
    {
      "cell_type": "markdown",
      "metadata": {
        "id": "bZjCuxA43KEo"
      },
      "source": [
        "##Инициализируем модель"
      ]
    },
    {
      "cell_type": "code",
      "execution_count": 3,
      "metadata": {
        "id": "sxUcXXav3SS_"
      },
      "outputs": [],
      "source": [
        "from getpass import getpass\n",
        "from langchain.chat_models.gigachat import GigaChat"
      ]
    },
    {
      "cell_type": "code",
      "execution_count": 4,
      "metadata": {
        "colab": {
          "base_uri": "https://localhost:8080/"
        },
        "id": "9d-feDpr-nXc",
        "outputId": "cad0d7d8-8979-47af-c486-960b621b0bfc"
      },
      "outputs": [
        {
          "name": "stdout",
          "output_type": "stream",
          "text": [
            "Введите API ключ от GigaChat··········\n"
          ]
        }
      ],
      "source": [
        "gigachat_api_key = getpass(prompt='Введите API ключ от GigaChat')"
      ]
    },
    {
      "cell_type": "code",
      "execution_count": 5,
      "metadata": {
        "id": "zQIF6e3P-sVq"
      },
      "outputs": [],
      "source": [
        "# Инициализируем языковую модель GigaChat\n",
        "# verify_ssl_certs=False – без использования сертификатов Минцифры\n",
        "llm = GigaChat(credentials=gigachat_api_key, verify_ssl_certs=False, temperature=0.01)"
      ]
    },
    {
      "cell_type": "markdown",
      "metadata": {
        "id": "tdjKB7x9zmlV"
      },
      "source": [
        "##Подготовка документа"
      ]
    },
    {
      "cell_type": "code",
      "execution_count": 6,
      "metadata": {
        "id": "Z9IxED7F6MWF"
      },
      "outputs": [],
      "source": [
        "from langchain_community.document_loaders import PyPDFLoader\n",
        "from langchain.text_splitter import (\n",
        "    RecursiveCharacterTextSplitter,\n",
        ")"
      ]
    },
    {
      "cell_type": "code",
      "execution_count": 9,
      "metadata": {
        "colab": {
          "base_uri": "https://localhost:8080/"
        },
        "id": "6-q9ATJ2p7yk",
        "outputId": "dfa2e2a6-6b09-40a7-def4-94791165e2b9"
      },
      "outputs": [
        {
          "output_type": "stream",
          "name": "stdout",
          "text": [
            "Total documents: 37\n"
          ]
        }
      ],
      "source": [
        "# Загружаем и разбиваем документ\n",
        "loader = PyPDFLoader(\"/content/drive/MyDrive/GigaChat_doc/Приказ ФСТЭК России от 25 декабря 2017 г. N 239.pdf\")\n",
        "documents = loader.load()\n",
        "text_splitter = RecursiveCharacterTextSplitter(\n",
        "    chunk_size=1000,\n",
        "    chunk_overlap=200,\n",
        ")\n",
        "split_doc = text_splitter.split_documents(documents)\n",
        "print(f\"Total documents: {len(documents)}\")"
      ]
    },
    {
      "cell_type": "markdown",
      "metadata": {
        "id": "s5L_sMaozkR_"
      },
      "source": [
        "##Создание базы данных эмбеддингов"
      ]
    },
    {
      "cell_type": "code",
      "execution_count": 10,
      "metadata": {
        "id": "xu7Gyrr9p78F"
      },
      "outputs": [],
      "source": [
        "from langchain_community.embeddings import HuggingFaceEmbeddings\n",
        "from langchain_community.vectorstores import FAISS"
      ]
    },
    {
      "cell_type": "code",
      "execution_count": 17,
      "metadata": {
        "id": "QkeqSl1Wz5B9"
      },
      "outputs": [],
      "source": [
        "# Если у вас нет видеокарты, укажите 'device': 'cpu'\n",
        "hf_embeddings_model = HuggingFaceEmbeddings(\n",
        "        model_name=\"cointegrated/LaBSE-en-ru\",\n",
        "        model_kwargs={\"device\": \"cpu\"}\n",
        "    )\n",
        "\n",
        "# Создаем FAISS индекс (базу векторов) с полученными эмбеддингами\n",
        "db = FAISS.from_documents(split_doc, hf_embeddings_model)"
      ]
    },
    {
      "cell_type": "markdown",
      "metadata": {
        "id": "M_QoNVjQ43lM"
      },
      "source": [
        "##Создание цепочки"
      ]
    },
    {
      "cell_type": "markdown",
      "metadata": {
        "id": "fcXdV6Bf47D4"
      },
      "source": [
        "Создадим цепочку, которая предназначена для ответов на вопросы по документам. В качестве аргументов есть передается языковая модель, ретривер (база данных) и доп информация на основе вопроса."
      ]
    },
    {
      "cell_type": "markdown",
      "metadata": {
        "id": "rZb-gS_1M5XO"
      },
      "source": [
        "###Пример ответа модели без дополнительных вопросов"
      ]
    },
    {
      "cell_type": "code",
      "execution_count": 12,
      "metadata": {
        "id": "PKObAohTvgVv"
      },
      "outputs": [],
      "source": [
        "from langchain.prompts import PromptTemplate\n",
        "from langchain_core.runnables import RunnablePassthrough\n",
        "from langchain.schema import StrOutputParser\n",
        "import re"
      ]
    },
    {
      "cell_type": "code",
      "execution_count": 13,
      "metadata": {
        "id": "fsPDiW-22zxu"
      },
      "outputs": [],
      "source": [
        "# Создаём простой шаблон\n",
        "template = \"\"\"\n",
        "Answer the question based only on the following context: {context}\n",
        "\n",
        "Question: {question}\n",
        "\"\"\"\n",
        "\n",
        "# Создаём промпт из шаблона\n",
        "prompt = PromptTemplate(template=template, input_variables=[\"question\"])\n",
        "\n",
        "# Объявляем функцию, которая будет собирать строку из полученных документов\n",
        "def format_docs(docs):\n",
        "    return \"\\n\\n\".join([d.page_content for d in docs])\n",
        "\n",
        "# Задаем ретривер\n",
        "retriever=db.as_retriever()\n",
        "\n",
        "# Создаём цепочку\n",
        "chain = (\n",
        "    {\"context\": retriever | format_docs, \"question\": RunnablePassthrough()}\n",
        "    | prompt\n",
        "    | llm\n",
        "    | StrOutputParser()\n",
        ")"
      ]
    },
    {
      "cell_type": "code",
      "execution_count": 14,
      "metadata": {
        "colab": {
          "base_uri": "https://localhost:8080/"
        },
        "id": "Y42EjM1Oz5dC",
        "outputId": "2668ae3b-4c54-4348-a8a9-756a91cc4e48"
      },
      "outputs": [
        {
          "output_type": "stream",
          "name": "stdout",
          "text": [
            "Если установка наложенных средств защиты информации (СрЗИ) невозможна на объекте критической информационной инфраструктуры (КИИ), то необходимо выполнить следующие действия:\n",
            "\n",
            "1. Определить базовый набор мер по обеспечению безопасности значимого объекта.\n",
            "2. Выбрать меры по обеспечению безопасности значимых объектов для их реализации.\n",
            "3. Разработать рабочую (эксплуатационную) документацию на значимый объект.\n",
            "4. Описать архитектуру подсистемы безопасности значимого объекта.\n",
            "5. Определить порядок и параметры настройки программных и программно-аппаратных средств, включая средства защиты информации.\n",
            "\n",
            "При этом следует учитывать, что выбор мер по обеспечению безопасности значимых объектов должен быть основан на категории значимости объекта КИИ и перечне нормативных правовых актов, методических документов и национальных стандартов, которым должен соответствовать значимый объект.\n"
          ]
        }
      ],
      "source": [
        "messege = chain.invoke(\"В составе ЗОКИИ имеется котельная, состоящая из ПЛК и АРМ. Каким образом необходимо выполнять требования приказа ФСТЭК России № 239, если установка наложенных СрЗИ невозможна?\")\n",
        "print(messege)"
      ]
    },
    {
      "cell_type": "markdown",
      "metadata": {
        "id": "cLFE-KrzMu85"
      },
      "source": [
        "###Пример ответа модели с уточняющим вопросом после ответа"
      ]
    },
    {
      "cell_type": "code",
      "execution_count": 15,
      "metadata": {
        "id": "PVvj9EBu9rNM"
      },
      "outputs": [],
      "source": [
        "# Создаём шаблон\n",
        "template = \"\"\"\n",
        "Answer the question based only on the following context: {context}\n",
        "\n",
        "Question: {question}\n",
        "\"\"\"\n",
        "\n",
        "# Создаём промпт из шаблона\n",
        "prompt = PromptTemplate(template=template, input_variables=[\"question\"])\n",
        "\n",
        "# Объявляем функцию, которая будет собирать строку из полученных документов\n",
        "def format_docs(docs):\n",
        "    return \"\\n\\n\".join([d.page_content for d in docs])\n",
        "\n",
        "# Задаем ретривер\n",
        "retriever = db.as_retriever()\n",
        "\n",
        "# Функция для генерации дополнительных вопросов\n",
        "def generate_subquestion(question_and_answer):\n",
        "    main_answer = chain.invoke(f\"Посмотри на вопрос и на ответ на него, дополни ответ и напиши его мне. {question_and_answer}\")\n",
        "    return main_answer\n",
        "\n",
        "# Создаём цепочку\n",
        "chain = (\n",
        "    {\"context\": retriever | format_docs, \"question\": RunnablePassthrough()}\n",
        "    | prompt\n",
        "    | llm\n",
        "    | StrOutputParser()\n",
        ")\n"
      ]
    },
    {
      "cell_type": "code",
      "execution_count": 16,
      "metadata": {
        "colab": {
          "base_uri": "https://localhost:8080/"
        },
        "id": "EBtEPi2N3Jux",
        "outputId": "c3037f64-40f1-4c6b-ce39-6334bc91b1bb"
      },
      "outputs": [
        {
          "output_type": "stream",
          "name": "stdout",
          "text": [
            "Если установка наложенных средств защиты информации (СрЗИ) невозможна на объекте критической информационной инфраструктуры (КИИ), то необходимо выполнить следующие действия:\n",
            "\n",
            "1. Определить базовый набор мер по обеспечению безопасности значимого объекта.\n",
            "2. Выбрать меры по обеспечению безопасности значимых объектов для их реализации.\n",
            "3. Разработать рабочую (эксплуатационную) документацию на значимый объект.\n",
            "4. Описать архитектуру подсистемы безопасности значимого объекта.\n",
            "5. Определить порядок и параметры настройки программных и программно-аппаратных средств, включая средства защиты информации.\n",
            "6. Разработать правила эксплуатации программных и программно-аппаратных средств, включая средства защиты информации (правила безопасной эксплуатации).\n",
            "7. Внедрить организационные и технические меры по обеспечению безопасности значимого объекта и ввести его в действие.\n"
          ]
        }
      ],
      "source": [
        "question = \"В составе ЗОКИИ имеется котельная, состоящая из ПЛК и АРМ. Каким образом необходимо выполнять требования приказа ФСТЭК России № 239, если установка наложенных СрЗИ невозможна?\"\n",
        "answer = chain.invoke(question)\n",
        "main_answer = generate_subquestion(f\"{question} {answer}\")\n",
        "\n",
        "print(main_answer)"
      ]
    }
  ],
  "metadata": {
    "colab": {
      "provenance": []
    },
    "kernelspec": {
      "display_name": "Python 3",
      "name": "python3"
    },
    "language_info": {
      "name": "python"
    }
  },
  "nbformat": 4,
  "nbformat_minor": 0
}